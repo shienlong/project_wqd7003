{
 "cells": [
  {
   "cell_type": "markdown",
   "metadata": {},
   "source": [
    "# WQD7003 Data Analytics Group Project\n",
    "## Loan Default Prediction\n",
    "### Kaggle Dataset - https://www.kaggle.com/c/loan-default-prediction/overview\n"
   ]
  },
  {
   "cell_type": "markdown",
   "metadata": {},
   "source": [
    "#### Import packages\n",
    "- os     - operating system functionality\n",
    "- pandas - manipulating data structures"
   ]
  },
  {
   "cell_type": "code",
   "execution_count": 1,
   "metadata": {},
   "outputs": [],
   "source": [
    "import os\n",
    "import pandas as pd\n",
    "import numpy as np\n",
    "import matplotlib as plt"
   ]
  },
  {
   "cell_type": "markdown",
   "metadata": {},
   "source": [
    "#### Identify current working directory and dataset path\n",
    "- Train and Test dataset provided.\n",
    "- An example of sample submission also provided. \n",
    "- All dataset in CSV file format. "
   ]
  },
  {
   "cell_type": "code",
   "execution_count": 2,
   "metadata": {},
   "outputs": [
    {
     "name": "stdout",
     "output_type": "stream",
     "text": [
      "C:\\GitCloneDir\\wqd7003_project\\project_wqd7003_git\n"
     ]
    }
   ],
   "source": [
    "cwd = os.getcwd()\n",
    "print(cwd)\n"
   ]
  },
  {
   "cell_type": "code",
   "execution_count": 3,
   "metadata": {},
   "outputs": [],
   "source": [
    "train_path = \"C:\\\\GitCloneDir\\\\wqd7003_project\\\\data\\\\train_v2.csv\"\n",
    "test_path = \"C:\\\\GitCloneDir\\\\wqd7003_project\\\\data\\\\test_v2.csv\""
   ]
  },
  {
   "cell_type": "markdown",
   "metadata": {},
   "source": [
    "#### Load training data into Pandas dataframe\n",
    "Note: to get hints to help with code completion, press \"Tab\" or \"Shift + Tab\"\n",
    "1. We start by exploring the data."
   ]
  },
  {
   "cell_type": "code",
   "execution_count": 4,
   "metadata": {},
   "outputs": [
    {
     "name": "stdout",
     "output_type": "stream",
     "text": [
      "498.987 MB\n"
     ]
    }
   ],
   "source": [
    "# Have a look at training file size\n",
    "file_size = int(os.path.getsize(train_path)/1024)  \n",
    "\n",
    "if file_size > 99999:\n",
    "    final_size = str(file_size/1000) + \" MB\"\n",
    "else:\n",
    "    final_size = str(file_size) + \" KB\"\n",
    "\n",
    "print(final_size)"
   ]
  },
  {
   "cell_type": "code",
   "execution_count": 5,
   "metadata": {},
   "outputs": [
    {
     "name": "stderr",
     "output_type": "stream",
     "text": [
      "C:\\Users\\nxa07630\\AppData\\Local\\Continuum\\anaconda2\\envs\\ctai\\lib\\site-packages\\IPython\\core\\interactiveshell.py:3063: DtypeWarning: Columns (135,204,274,417) have mixed types.Specify dtype option on import or set low_memory=False.\n",
      "  interactivity=interactivity, compiler=compiler, result=result)\n"
     ]
    }
   ],
   "source": [
    "df_train = pd.read_csv(train_path)"
   ]
  },
  {
   "cell_type": "code",
   "execution_count": 6,
   "metadata": {},
   "outputs": [
    {
     "name": "stdout",
     "output_type": "stream",
     "text": [
      "105471 rows\n",
      "771 columns\n"
     ]
    }
   ],
   "source": [
    "# Number of rows and columns\n",
    "print(str(len(df_train)) + \" rows\")\n",
    "print(str(len(df_train.columns)) + \" columns\")"
   ]
  },
  {
   "cell_type": "code",
   "execution_count": 7,
   "metadata": {},
   "outputs": [
    {
     "data": {
      "text/plain": [
       "<bound method DataFrame.info of             id   f1  f2        f3    f4  f5     f6      f7      f8      f9  \\\n",
       "0            1  126  10  0.686842  1100   3  13699  7201.0  4949.0  126.75   \n",
       "1            2  121  10  0.782776  1100   3  84645   240.0  1625.0  123.52   \n",
       "2            3  126  10  0.500080  1100   3  83607  1800.0  1527.0  127.76   \n",
       "3            4  134  10  0.439874  1100   3  82642  7542.0  1730.0  132.94   \n",
       "4            5  109   9  0.502749  2900   4  79124    89.0   491.0  122.72   \n",
       "...        ...  ...  ..       ...   ...  ..    ...     ...     ...     ...   \n",
       "105466  105467  126   8  0.006620  2200   4  76831   331.0  2366.0  125.25   \n",
       "105467  105468  137   9  0.358568  2200   4   9836  3898.0  1106.0  135.88   \n",
       "105468  105469  129   9  0.241858  2200   4    627  7081.0  6577.0  128.44   \n",
       "105469  105470  129   9  0.569719  2200   4  14629  4984.0  2101.0  127.25   \n",
       "105470  105471  129   9  0.407707  2200   4    627  8173.0  6578.0  128.66   \n",
       "\n",
       "        ...  f770  f771  f772  f773    f774    f775  f776  f777  f778  loss  \n",
       "0       ...     5  2.14 -1.54  1.18  0.1833  0.7873     1     0     5     0  \n",
       "1       ...     6  0.54 -0.24  0.13  0.1926 -0.6787     1     0     5     0  \n",
       "2       ...    13  2.89 -1.73  1.04  0.2521  0.7258     1     0     5     0  \n",
       "3       ...     4  1.29 -0.89  0.66  0.2498  0.7119     1     0     5     0  \n",
       "4       ...    26  6.11 -3.82  2.51  0.2282 -0.5399     0     0     5     0  \n",
       "...     ...   ...   ...   ...   ...     ...     ...   ...   ...   ...   ...  \n",
       "105466  ...     3  1.07 -0.92  0.82  0.3809 -0.5489     0     0    93     0  \n",
       "105467  ...     3  0.33 -0.18  0.10  0.2357 -0.8627     1     0    93     0  \n",
       "105468  ...     4  1.18 -0.70  0.44  0.1649  1.0901     1     0    93     0  \n",
       "105469  ...     2  0.01  0.00  0.00  0.0583  1.3355     1     0    93     0  \n",
       "105470  ...     5  0.35 -0.13  0.04  0.1308 -0.9687     1     0    93     0  \n",
       "\n",
       "[105471 rows x 771 columns]>"
      ]
     },
     "execution_count": 7,
     "metadata": {},
     "output_type": "execute_result"
    }
   ],
   "source": [
    "# Number of rows, columns, & other info\n",
    "df_train.info"
   ]
  },
  {
   "cell_type": "code",
   "execution_count": 8,
   "metadata": {},
   "outputs": [
    {
     "data": {
      "text/html": [
       "<div>\n",
       "<style scoped>\n",
       "    .dataframe tbody tr th:only-of-type {\n",
       "        vertical-align: middle;\n",
       "    }\n",
       "\n",
       "    .dataframe tbody tr th {\n",
       "        vertical-align: top;\n",
       "    }\n",
       "\n",
       "    .dataframe thead th {\n",
       "        text-align: right;\n",
       "    }\n",
       "</style>\n",
       "<table border=\"1\" class=\"dataframe\">\n",
       "  <thead>\n",
       "    <tr style=\"text-align: right;\">\n",
       "      <th></th>\n",
       "      <th>id</th>\n",
       "      <th>f1</th>\n",
       "      <th>f2</th>\n",
       "      <th>f3</th>\n",
       "      <th>f4</th>\n",
       "      <th>f5</th>\n",
       "      <th>f6</th>\n",
       "      <th>f7</th>\n",
       "      <th>f8</th>\n",
       "      <th>f9</th>\n",
       "      <th>...</th>\n",
       "      <th>f770</th>\n",
       "      <th>f771</th>\n",
       "      <th>f772</th>\n",
       "      <th>f773</th>\n",
       "      <th>f774</th>\n",
       "      <th>f775</th>\n",
       "      <th>f776</th>\n",
       "      <th>f777</th>\n",
       "      <th>f778</th>\n",
       "      <th>loss</th>\n",
       "    </tr>\n",
       "  </thead>\n",
       "  <tbody>\n",
       "    <tr>\n",
       "      <th>count</th>\n",
       "      <td>105471.000000</td>\n",
       "      <td>105471.000000</td>\n",
       "      <td>105471.000000</td>\n",
       "      <td>105471.000000</td>\n",
       "      <td>105471.000000</td>\n",
       "      <td>105471.000000</td>\n",
       "      <td>105471.000000</td>\n",
       "      <td>105289.000000</td>\n",
       "      <td>105370.000000</td>\n",
       "      <td>105471.000000</td>\n",
       "      <td>...</td>\n",
       "      <td>105471.000000</td>\n",
       "      <td>105471.000000</td>\n",
       "      <td>105471.000000</td>\n",
       "      <td>105471.000000</td>\n",
       "      <td>104407.000000</td>\n",
       "      <td>103946.000000</td>\n",
       "      <td>105471.000000</td>\n",
       "      <td>105471.000000</td>\n",
       "      <td>105471.000000</td>\n",
       "      <td>105471.000000</td>\n",
       "    </tr>\n",
       "    <tr>\n",
       "      <th>mean</th>\n",
       "      <td>52736.000000</td>\n",
       "      <td>134.603171</td>\n",
       "      <td>8.246883</td>\n",
       "      <td>0.499066</td>\n",
       "      <td>2678.488874</td>\n",
       "      <td>7.354533</td>\n",
       "      <td>47993.704317</td>\n",
       "      <td>2974.336018</td>\n",
       "      <td>2436.363718</td>\n",
       "      <td>134.555225</td>\n",
       "      <td>...</td>\n",
       "      <td>17.422543</td>\n",
       "      <td>5.800976</td>\n",
       "      <td>-4.246788</td>\n",
       "      <td>3.273059</td>\n",
       "      <td>0.233852</td>\n",
       "      <td>0.014797</td>\n",
       "      <td>0.310246</td>\n",
       "      <td>0.322847</td>\n",
       "      <td>175.951589</td>\n",
       "      <td>0.799585</td>\n",
       "    </tr>\n",
       "    <tr>\n",
       "      <th>std</th>\n",
       "      <td>30446.999458</td>\n",
       "      <td>14.725467</td>\n",
       "      <td>1.691535</td>\n",
       "      <td>0.288752</td>\n",
       "      <td>1401.010943</td>\n",
       "      <td>5.151112</td>\n",
       "      <td>35677.136048</td>\n",
       "      <td>2546.551085</td>\n",
       "      <td>2262.950221</td>\n",
       "      <td>13.824682</td>\n",
       "      <td>...</td>\n",
       "      <td>18.548936</td>\n",
       "      <td>6.508555</td>\n",
       "      <td>4.828265</td>\n",
       "      <td>3.766746</td>\n",
       "      <td>0.073578</td>\n",
       "      <td>1.039439</td>\n",
       "      <td>0.462597</td>\n",
       "      <td>0.467567</td>\n",
       "      <td>298.294043</td>\n",
       "      <td>4.321120</td>\n",
       "    </tr>\n",
       "    <tr>\n",
       "      <th>min</th>\n",
       "      <td>1.000000</td>\n",
       "      <td>103.000000</td>\n",
       "      <td>1.000000</td>\n",
       "      <td>0.000006</td>\n",
       "      <td>1100.000000</td>\n",
       "      <td>1.000000</td>\n",
       "      <td>0.000000</td>\n",
       "      <td>1.000000</td>\n",
       "      <td>1.000000</td>\n",
       "      <td>106.820000</td>\n",
       "      <td>...</td>\n",
       "      <td>2.000000</td>\n",
       "      <td>0.000000</td>\n",
       "      <td>-43.160000</td>\n",
       "      <td>0.000000</td>\n",
       "      <td>0.000000</td>\n",
       "      <td>-18.439600</td>\n",
       "      <td>0.000000</td>\n",
       "      <td>0.000000</td>\n",
       "      <td>2.000000</td>\n",
       "      <td>0.000000</td>\n",
       "    </tr>\n",
       "    <tr>\n",
       "      <th>25%</th>\n",
       "      <td>26368.500000</td>\n",
       "      <td>124.000000</td>\n",
       "      <td>8.000000</td>\n",
       "      <td>0.248950</td>\n",
       "      <td>1500.000000</td>\n",
       "      <td>4.000000</td>\n",
       "      <td>11255.000000</td>\n",
       "      <td>629.000000</td>\n",
       "      <td>746.000000</td>\n",
       "      <td>124.290000</td>\n",
       "      <td>...</td>\n",
       "      <td>5.000000</td>\n",
       "      <td>1.480000</td>\n",
       "      <td>-5.700000</td>\n",
       "      <td>0.740000</td>\n",
       "      <td>0.198400</td>\n",
       "      <td>-0.704275</td>\n",
       "      <td>0.000000</td>\n",
       "      <td>0.000000</td>\n",
       "      <td>19.000000</td>\n",
       "      <td>0.000000</td>\n",
       "    </tr>\n",
       "    <tr>\n",
       "      <th>50%</th>\n",
       "      <td>52736.000000</td>\n",
       "      <td>129.000000</td>\n",
       "      <td>9.000000</td>\n",
       "      <td>0.498267</td>\n",
       "      <td>2200.000000</td>\n",
       "      <td>4.000000</td>\n",
       "      <td>76530.000000</td>\n",
       "      <td>2292.000000</td>\n",
       "      <td>1786.000000</td>\n",
       "      <td>128.460000</td>\n",
       "      <td>...</td>\n",
       "      <td>11.000000</td>\n",
       "      <td>3.570000</td>\n",
       "      <td>-2.600000</td>\n",
       "      <td>1.990000</td>\n",
       "      <td>0.251800</td>\n",
       "      <td>0.375400</td>\n",
       "      <td>0.000000</td>\n",
       "      <td>0.000000</td>\n",
       "      <td>40.000000</td>\n",
       "      <td>0.000000</td>\n",
       "    </tr>\n",
       "    <tr>\n",
       "      <th>75%</th>\n",
       "      <td>79103.500000</td>\n",
       "      <td>148.000000</td>\n",
       "      <td>9.000000</td>\n",
       "      <td>0.749494</td>\n",
       "      <td>3700.000000</td>\n",
       "      <td>10.000000</td>\n",
       "      <td>80135.000000</td>\n",
       "      <td>4679.000000</td>\n",
       "      <td>3411.000000</td>\n",
       "      <td>149.080000</td>\n",
       "      <td>...</td>\n",
       "      <td>23.000000</td>\n",
       "      <td>7.700000</td>\n",
       "      <td>-1.010000</td>\n",
       "      <td>4.440000</td>\n",
       "      <td>0.283600</td>\n",
       "      <td>0.737100</td>\n",
       "      <td>1.000000</td>\n",
       "      <td>1.000000</td>\n",
       "      <td>104.000000</td>\n",
       "      <td>0.000000</td>\n",
       "    </tr>\n",
       "    <tr>\n",
       "      <th>max</th>\n",
       "      <td>105471.000000</td>\n",
       "      <td>176.000000</td>\n",
       "      <td>11.000000</td>\n",
       "      <td>0.999994</td>\n",
       "      <td>7900.000000</td>\n",
       "      <td>17.000000</td>\n",
       "      <td>88565.000000</td>\n",
       "      <td>9968.000000</td>\n",
       "      <td>11541.000000</td>\n",
       "      <td>172.950000</td>\n",
       "      <td>...</td>\n",
       "      <td>168.000000</td>\n",
       "      <td>58.120000</td>\n",
       "      <td>0.000000</td>\n",
       "      <td>34.040000</td>\n",
       "      <td>0.473700</td>\n",
       "      <td>11.092000</td>\n",
       "      <td>1.000000</td>\n",
       "      <td>1.000000</td>\n",
       "      <td>1212.000000</td>\n",
       "      <td>100.000000</td>\n",
       "    </tr>\n",
       "  </tbody>\n",
       "</table>\n",
       "<p>8 rows × 752 columns</p>\n",
       "</div>"
      ],
      "text/plain": [
       "                  id             f1             f2             f3  \\\n",
       "count  105471.000000  105471.000000  105471.000000  105471.000000   \n",
       "mean    52736.000000     134.603171       8.246883       0.499066   \n",
       "std     30446.999458      14.725467       1.691535       0.288752   \n",
       "min         1.000000     103.000000       1.000000       0.000006   \n",
       "25%     26368.500000     124.000000       8.000000       0.248950   \n",
       "50%     52736.000000     129.000000       9.000000       0.498267   \n",
       "75%     79103.500000     148.000000       9.000000       0.749494   \n",
       "max    105471.000000     176.000000      11.000000       0.999994   \n",
       "\n",
       "                  f4             f5             f6             f7  \\\n",
       "count  105471.000000  105471.000000  105471.000000  105289.000000   \n",
       "mean     2678.488874       7.354533   47993.704317    2974.336018   \n",
       "std      1401.010943       5.151112   35677.136048    2546.551085   \n",
       "min      1100.000000       1.000000       0.000000       1.000000   \n",
       "25%      1500.000000       4.000000   11255.000000     629.000000   \n",
       "50%      2200.000000       4.000000   76530.000000    2292.000000   \n",
       "75%      3700.000000      10.000000   80135.000000    4679.000000   \n",
       "max      7900.000000      17.000000   88565.000000    9968.000000   \n",
       "\n",
       "                  f8             f9  ...           f770           f771  \\\n",
       "count  105370.000000  105471.000000  ...  105471.000000  105471.000000   \n",
       "mean     2436.363718     134.555225  ...      17.422543       5.800976   \n",
       "std      2262.950221      13.824682  ...      18.548936       6.508555   \n",
       "min         1.000000     106.820000  ...       2.000000       0.000000   \n",
       "25%       746.000000     124.290000  ...       5.000000       1.480000   \n",
       "50%      1786.000000     128.460000  ...      11.000000       3.570000   \n",
       "75%      3411.000000     149.080000  ...      23.000000       7.700000   \n",
       "max     11541.000000     172.950000  ...     168.000000      58.120000   \n",
       "\n",
       "                f772           f773           f774           f775  \\\n",
       "count  105471.000000  105471.000000  104407.000000  103946.000000   \n",
       "mean       -4.246788       3.273059       0.233852       0.014797   \n",
       "std         4.828265       3.766746       0.073578       1.039439   \n",
       "min       -43.160000       0.000000       0.000000     -18.439600   \n",
       "25%        -5.700000       0.740000       0.198400      -0.704275   \n",
       "50%        -2.600000       1.990000       0.251800       0.375400   \n",
       "75%        -1.010000       4.440000       0.283600       0.737100   \n",
       "max         0.000000      34.040000       0.473700      11.092000   \n",
       "\n",
       "                f776           f777           f778           loss  \n",
       "count  105471.000000  105471.000000  105471.000000  105471.000000  \n",
       "mean        0.310246       0.322847     175.951589       0.799585  \n",
       "std         0.462597       0.467567     298.294043       4.321120  \n",
       "min         0.000000       0.000000       2.000000       0.000000  \n",
       "25%         0.000000       0.000000      19.000000       0.000000  \n",
       "50%         0.000000       0.000000      40.000000       0.000000  \n",
       "75%         1.000000       1.000000     104.000000       0.000000  \n",
       "max         1.000000       1.000000    1212.000000     100.000000  \n",
       "\n",
       "[8 rows x 752 columns]"
      ]
     },
     "execution_count": 8,
     "metadata": {},
     "output_type": "execute_result"
    }
   ],
   "source": [
    "# Take a quick look at the data\n",
    "df_train.describe()"
   ]
  },
  {
   "cell_type": "code",
   "execution_count": 9,
   "metadata": {},
   "outputs": [
    {
     "name": "stdout",
     "output_type": "stream",
     "text": [
      "19 Objects\n",
      "99 Int64\n",
      "653 Float64\n"
     ]
    }
   ],
   "source": [
    "# Data types int64, float64, object\n",
    "col_names = df_train.columns.values\n",
    "\n",
    "# Get  columns whose data type is object i.e. string, int64, float64\n",
    "filtColObj = df_train.dtypes[df_train.dtypes == np.object]\n",
    "filtColInt = df_train.dtypes[df_train.dtypes == np.int64]\n",
    "filtColFlt = df_train.dtypes[df_train.dtypes == np.float64]\n",
    " \n",
    "# list of columns whose data type is object i.e. string, int64, float64\n",
    "listColNamesObj = list(filtColObj.index)\n",
    "listColNamesInt = list(filtColInt.index)\n",
    "listColNamesFlt = list(filtColFlt.index)\n",
    " \n",
    "print(str(len(listColNamesObj)) + \" Objects\")\n",
    "print(str(len(listColNamesInt)) + \" Int64\")\n",
    "print(str(len(listColNamesFlt)) + \" Float64\")"
   ]
  },
  {
   "cell_type": "code",
   "execution_count": 10,
   "metadata": {},
   "outputs": [
    {
     "data": {
      "text/plain": [
       "id      0.000000\n",
       "f1      0.000000\n",
       "f2      0.000000\n",
       "f3      0.000000\n",
       "f4      0.000000\n",
       "          ...   \n",
       "f775    0.014459\n",
       "f776    0.000000\n",
       "f777    0.000000\n",
       "f778    0.000000\n",
       "loss    0.000000\n",
       "Length: 771, dtype: float64"
      ]
     },
     "execution_count": 10,
     "metadata": {},
     "output_type": "execute_result"
    }
   ],
   "source": [
    "df_train.isnull().mean()"
   ]
  }
 ],
 "metadata": {
  "kernelspec": {
   "display_name": "Python 3",
   "language": "python",
   "name": "python3"
  },
  "language_info": {
   "codemirror_mode": {
    "name": "ipython",
    "version": 3
   },
   "file_extension": ".py",
   "mimetype": "text/x-python",
   "name": "python",
   "nbconvert_exporter": "python",
   "pygments_lexer": "ipython3",
   "version": "3.6.10"
  }
 },
 "nbformat": 4,
 "nbformat_minor": 4
}
